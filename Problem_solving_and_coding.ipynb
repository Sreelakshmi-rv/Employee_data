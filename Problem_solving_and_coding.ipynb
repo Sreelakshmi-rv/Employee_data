{
  "nbformat": 4,
  "nbformat_minor": 0,
  "metadata": {
    "colab": {
      "provenance": []
    },
    "kernelspec": {
      "name": "python3",
      "display_name": "Python 3"
    },
    "language_info": {
      "name": "python"
    }
  },
  "cells": [
    {
      "cell_type": "markdown",
      "source": [
        "# Task 1: Problem solving and coding"
      ],
      "metadata": {
        "id": "vVDsuXzZ_ytf"
      }
    },
    {
      "cell_type": "code",
      "source": [
        "import csv\n",
        "\n",
        "# Read CSV file\n",
        "def read_csv(file_name):\n",
        "    employees = []\n",
        "    try:\n",
        "        with open(file_name, 'r', encoding='utf-8') as file:\n",
        "            reader = csv.DictReader(file)\n",
        "            for row in reader:\n",
        "                if row['\\ufeffid'] and row['name'] and row['department'] and row['salary']:\n",
        "                    try:\n",
        "                        employees.append({\n",
        "                            'id': row['\\ufeffid'].strip(),\n",
        "                            'name': row['name'].strip(),\n",
        "                            'department': row['department'].strip(),\n",
        "                            'salary': float(row['salary'].strip())\n",
        "                        })\n",
        "                    except ValueError:\n",
        "                        continue  # Skip invalid salary values\n",
        "    except FileNotFoundError:\n",
        "        print(f\"Error: File '{file_name}' not found.\")\n",
        "    return employees\n",
        "\n",
        "# Calculate statistics\n",
        "def get_statistics(employees):\n",
        "    if not employees:\n",
        "        return None, None, None\n",
        "\n",
        "    avg_salary = sum(emp['salary'] for emp in employees) / len(employees)\n",
        "    highest_salary_emp = max(employees, key=lambda x: x['salary'])\n",
        "    department_count = {}\n",
        "    department_count = {emp['department']: department_count.get(emp['department'], 0) + 1 for emp in employees}\n",
        "\n",
        "    return avg_salary, highest_salary_emp, department_count\n",
        "\n",
        "# Write results\n",
        "def write_results(avg_salary, highest_salary_emp, department_count):\n",
        "    if avg_salary is None:\n",
        "        print(\"No valid data to write.\")\n",
        "        return\n",
        "\n",
        "    with open(\"results.txt\", \"w\") as file:\n",
        "        file.write(f\"Average Salary: {avg_salary:.2f}\\n\")\n",
        "        file.write(f\"Highest Salary: {highest_salary_emp['salary']:.2f} ({highest_salary_emp['name']})\\n\")\n",
        "        file.write(\"Employees per Department:\\n\")\n",
        "        for dept, count in department_count.items():\n",
        "            file.write(f\"{dept}: {count}\\n\")\n",
        "    print(\"Results saved to results.txt\")\n",
        "\n",
        "# Main function\n",
        "def main():\n",
        "    employees = read_csv(\"emp_data_v2.csv\")\n",
        "    if not employees:\n",
        "        print(\"No valid employee records found.\")\n",
        "        return\n",
        "\n",
        "    avg_salary, highest_salary_emp, department_count = get_statistics(employees)\n",
        "\n",
        "    # Print highest-paid employee\n",
        "    print(f\"Employee with the highest salary: {highest_salary_emp['name']} (${highest_salary_emp['salary']:.2f})\")\n",
        "\n",
        "    write_results(avg_salary, highest_salary_emp, department_count)\n",
        "\n",
        "if __name__ == \"__main__\":\n",
        "    main()\n"
      ],
      "metadata": {
        "colab": {
          "base_uri": "https://localhost:8080/"
        },
        "id": "OHWfswJ89SZa",
        "outputId": "06d5ffc5-3def-4b9c-eed5-804b527878a0"
      },
      "execution_count": null,
      "outputs": [
        {
          "output_type": "stream",
          "name": "stdout",
          "text": [
            "Employee with the highest salary: Tara ($118000.00)\n",
            "Results saved to results.txt\n"
          ]
        }
      ]
    },
    {
      "cell_type": "code",
      "source": [],
      "metadata": {
        "id": "1nUaY2z7--mA"
      },
      "execution_count": null,
      "outputs": []
    }
  ]
}